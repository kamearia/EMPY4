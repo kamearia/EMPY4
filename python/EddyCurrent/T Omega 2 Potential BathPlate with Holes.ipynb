{
 "cells": [
  {
   "cell_type": "code",
   "execution_count": 1,
   "id": "e979efd0-8650-40c7-bd59-ed0d04caeee8",
   "metadata": {},
   "outputs": [
    {
     "name": "stdout",
     "output_type": "stream",
     "text": [
      "Bath Plate Model    holes: 2    Thickness: 0.00635\n",
      "boxx=  0.2  boxy=  0.28  boxz=  0.4\n",
      "div_thick=  2\n",
      "name: hole1   mass: 7.619999999999999e-06   center: (0.02, 3.21245e-20, 5.42769e-20)\n",
      "name: hole2   mass: 7.619999999999999e-06   center: (-0.02, 3.21245e-20, 5.42769e-20)\n",
      "name: to_side   mass: 1.3335000000000002e-05   center: (9.92493e-19, 0.0178571, -1.50111e-20)\n",
      "name: from_side   mass: 1.3335000000000002e-05   center: (0, -0.0178571, 4.91339e-21)\n",
      "name: air   mass: 0.00015824625000000016   center: (0, -1.6727e-19, -6.62394e-20)\n",
      "name: reduced   mass: 0.03331016538829113   center: (-1.39794e-17, -1.50936e-17, 2.19369e-19)\n",
      "conductive_region: to_side|from_side\n",
      "Conductor boundary: conductorBND|interface|interface2\n",
      "{'conductor': 32780000.0, 'to_side': 32780000.0, 'from_side': 32780000.0, 'air': 0, 'reduced': 0, 'hole1': 0, 'hole2': 0, 'default': 0}\n",
      "{'conductor': 1.2566370614359173e-06, 'to_side': 1.2566370614359173e-06, 'from_side': 1.2566370614359173e-06, 'air': 1.2566370614359173e-06, 'reduced': 1.2566370614359173e-06, 'hole1': 1.2566370614359173e-06, 'hole2': 1.2566370614359173e-06, 'default': 1.2566370614359173e-06}\n",
      "class HolePot: num= 2  holes\n",
      "     neme: hole1   lower: hole_lower   upper: hole_upper   interface: interface\n",
      "     neme: hole2   lower: hole_lower2   upper: hole_upper2   interface: interface2\n",
      "class MeasureFace: num= 3  faces\n",
      "     cut1    from_side    to_side\n",
      "     cut2    from_side    to_side\n",
      "     cut3    from_side    to_side\n"
     ]
    },
    {
     "data": {
      "application/vnd.jupyter.widget-view+json": {
       "model_id": "58e2d7db9e224a35a8d6b45101d0f4b4",
       "version_major": 2,
       "version_minor": 0
      },
      "text/plain": [
       "WebGuiWidget(layout=Layout(height='50vh', width='100%'), value={'ngsolve_version': 'Netgen x.x', 'mesh_dim': 3…"
      ]
     },
     "metadata": {},
     "output_type": "display_data"
    },
    {
     "data": {
      "application/vnd.jupyter.widget-view+json": {
       "model_id": "c4c09f6382b14d0f980e2c28ef8c380e",
       "version_major": 2,
       "version_minor": 0
      },
      "text/plain": [
       "WebGuiWidget(layout=Layout(height='50vh', width='100%'), value={'gui_settings': {}, 'ngsolve_version': '6.2.24…"
      ]
     },
     "metadata": {},
     "output_type": "display_data"
    },
    {
     "data": {
      "text/plain": [
       "BaseWebGuiScene"
      ]
     },
     "execution_count": 1,
     "metadata": {},
     "output_type": "execute_result"
    }
   ],
   "source": [
    "from netgen.meshing import *\n",
    "from netgen.csg import *\n",
    "from netgen.occ import *\n",
    "from ngsolve import *\n",
    "from ngsolve.webgui import Draw\n",
    "from netgen.webgui import Draw as DrawGeo\n",
    "import math\n",
    "import numpy as np\n",
    "import sys\n",
    "sys.path.append(r'..\\..\\bin\\Release') \n",
    "from EMPY_Field import *\n",
    "sys.path.append('..\\model')\n",
    "#from Cylinder_Yaxis_1Layer import Cylinder_Yaxis_1Layer\n",
    "from BathPlateModel import BathPlateModel\n",
    "sys.path.append('..\\include')\n",
    "from MatrixSolver import MatrixSolver as solver \n",
    "from HtoOmega import HtoOmega\n",
    "#model=Cylinder_Yaxis_1Layer(sigma=5e7)\n",
    "model=BathPlateModel(holes=2,outerBox=\"sphere\", boxx=0.2, div_thick=2)\n",
    "DrawGeo(model.model)\n",
    "mesh=model.mesh\n",
    "Draw(mesh)"
   ]
  },
  {
   "cell_type": "code",
   "execution_count": 2,
   "id": "296b4c39-33c5-4d41-a7eb-f61e944f2b8a",
   "metadata": {},
   "outputs": [],
   "source": [
    "import math\n",
    "jomega=True\n",
    "f=50\n",
    "if jomega==True:\n",
    "    s=2j*math.pi*f\n",
    "else:\n",
    "    s=2*math.pi*f\n",
    "Dirichlet=True\n",
    "feorder=2\n",
    "mu=4e-7*math.pi\n",
    "symmetric_plane=model.symmetric_plane\n",
    "Mu=model.Mu\n",
    "Sigma=model.Sigma\n",
    "reduced_region=model.reduced_region\n",
    "total_region=model.total_region\n",
    "conductive_region=model.conductive_region\n",
    "air_region=model.air_region\n",
    "total_boundary=model.total_boundary\n",
    "reduced_boundary=model.reduced_boundary\n",
    "conductor_boundary=model.conductor_boundary"
   ]
  },
  {
   "cell_type": "code",
   "execution_count": 3,
   "id": "a37a4ae9-075f-4941-a1d1-0a48a7b66064",
   "metadata": {},
   "outputs": [
    {
     "name": "stdout",
     "output_type": "stream",
     "text": [
      "enter iccg_solve\n",
      "Dof= 1398    matrix size= 5904.0\n",
      "shift parameter= 1.0\n",
      "minimum residual= 3.5000182529799554e-16  at iteraions:  42\n",
      "結果のノルム: 2.3593482145369393e-11\n",
      "power=  350152.6001719478\n"
     ]
    }
   ],
   "source": [
    "#field=UNIF(0,1,0,0)\n",
    "field=model.coil.field\n",
    "#coil=UNIF(0,0,0.01,0)\n",
    "Bv=Bfield(field)\n",
    "Hv=Bv/mu\n",
    "Bs=model.ReducedField(Bv, (0,0,0))\n",
    "\n",
    "if Dirichlet==True:\n",
    "    fesOmega=H1(mesh, order=feorder, dirichlet=reduced_boundary, complex=jomega)\n",
    "else:\n",
    "    fesOmega=H1(mesh, order=feorder, complex=jomega)\n",
    "fesT=HCurl(mesh, order=feorder, nograd=True, definedon=conductive_region, dirichlet=conductor_boundary, complex=jomega)     \n",
    "fesTOmega=fesT*fesOmega\n",
    "(T,omega),(W, psi) = fesTOmega.TnT() \n",
    "gfTOmega = GridFunction(fesTOmega)\n",
    "gfT, gfOmega =gfTOmega.components\n",
    "a= BilinearForm(fesTOmega)\n",
    "a +=Mu*grad(omega)*grad(psi)*dx(air_region)\n",
    "a +=Mu*(T+grad(omega))*(W+grad(psi))*dx(conductive_region)\n",
    "a +=1/(s*Sigma)*curl(T)*curl(W)*dx(conductive_region)\n",
    "with TaskManager():\n",
    "    a.Assemble()\n",
    "normal = specialcf.normal(mesh.dim)\n",
    "\n",
    "surfaceOmega=HtoOmega(mesh, total_boundary, feorder, Hv)\n",
    "# Calculate Dirichlet condition terms\n",
    "#gfOmega.Set(Ov, BND, mesh.Boundaries(total_boundary))\n",
    "gfOmega.Set(surfaceOmega, BND, mesh.Boundaries(total_boundary))\n",
    "\n",
    "f = LinearForm(fesTOmega)\n",
    "f +=Mu*grad(gfOmega)*grad(psi)*dx(reduced_region)\n",
    "with TaskManager():\n",
    "    f.Assemble() \n",
    "#remove components of the Dirichlet boundary\n",
    "fcut = np.array(f.vec.FV())[fesTOmega.FreeDofs()]\n",
    "np.array(f.vec.FV(), copy=False)[fesTOmega.FreeDofs()] = fcut\n",
    "\n",
    "# Add Neumann condition terms\n",
    "f += (normal*Bv)*psi*ds(total_boundary)\n",
    "with TaskManager():\n",
    "    f.Assemble()\n",
    "fRHS=f"
   ]
  },
  {
   "cell_type": "code",
   "execution_count": 4,
   "id": "b1e6d04a-ca4c-4908-875a-064f8aed506d",
   "metadata": {},
   "outputs": [
    {
     "name": "stdout",
     "output_type": "stream",
     "text": [
      "Surface face count=  2326\n",
      "Surface edge count=  3489\n",
      "Surface node count=  1161\n",
      "genus=  2\n",
      "edge DOF =  80\n",
      "enter iccg_solve\n",
      "Dof= 16489    matrix size= 96230.0\n",
      "shift parameter= 1.0\n",
      "minimum residual= 6.928093277071182e-16  at iteraions:  76\n",
      "結果のノルム: 5.039991300541081e-12\n",
      "power=  1271.0002360235733\n",
      "enter iccg_solve\n",
      "Dof= 2600    matrix size= 11586.0\n",
      "shift parameter= 1.0\n",
      "minimum residual= 7.292905909895356e-17  at iteraions:  31\n",
      "結果のノルム: 6.397903402361687e-16\n",
      "power=  0.007652361819407029\n",
      "k= 0    norm2= 3.4477964593431363e-07\n",
      "edge DOF =  11703\n",
      "enter iccg_solve\n",
      "Dof= 16488    matrix size= 96220.0\n",
      "shift parameter= 1.0\n",
      "minimum residual= 8.834846105338815e-16  at iteraions:  73\n",
      "結果のノルム: 5.1940022536686385e-12\n",
      "power=  907.0928697369967\n",
      "enter iccg_solve\n",
      "Dof= 2600    matrix size= 11586.0\n",
      "shift parameter= 1.0\n",
      "minimum residual= 2.850235932732602e-17  at iteraions:  31\n",
      "結果のノルム: 2.4213045013796464e-16\n",
      "power=  0.005666805532244796\n",
      "k= 1   kd= 0    prod= -4.217897188313471e-07\n",
      "k= 1    norm2= 3.0206432501681727e-09\n"
     ]
    },
    {
     "data": {
      "application/vnd.jupyter.widget-view+json": {
       "model_id": "c5419aaf0e8b4aa68551d02989858e84",
       "version_major": 2,
       "version_minor": 0
      },
      "text/plain": [
       "WebGuiWidget(layout=Layout(height='50vh', width='100%'), value={'gui_settings': {}, 'ngsolve_version': '6.2.24…"
      ]
     },
     "metadata": {},
     "output_type": "display_data"
    },
    {
     "data": {
      "application/vnd.jupyter.widget-view+json": {
       "model_id": "5a340337844443f697a6342f5cc8c2af",
       "version_major": 2,
       "version_minor": 0
      },
      "text/plain": [
       "WebGuiWidget(layout=Layout(height='50vh', width='100%'), value={'gui_settings': {}, 'ngsolve_version': '6.2.24…"
      ]
     },
     "metadata": {},
     "output_type": "display_data"
    }
   ],
   "source": [
    "from LoopField import *\n",
    "from ngsolve import *\n",
    "from ngsolve.webgui import Draw\n",
    "loops=LoopFields(model)\n",
    "g=len(loops)\n",
    "for k in range(g):\n",
    "    Draw(loops[k], mesh)"
   ]
  },
  {
   "cell_type": "code",
   "execution_count": 5,
   "id": "8fbbdb6b-a088-44aa-bcde-af53f042feb0",
   "metadata": {},
   "outputs": [
    {
     "name": "stdout",
     "output_type": "stream",
     "text": [
      "fv= [<ngsolve.comp.LinearForm object at 0x0000022E64E8B0F0>, <ngsolve.comp.LinearForm object at 0x0000022E64E55EF0>]\n",
      "fafv [[(1.379217616449119e-06-1.2726629728999657e-05j), (4.382046667821405e-09-7.336800655049363e-07j)], [(4.382046667821405e-09-7.336800655049363e-07j), (1.3731714880139614e-06-1.3090412307151264e-05j)]]\n",
      "dim= 58858   nadd= 2\n",
      "size of matrix=  3290747\n",
      "shift parameter= 1.01\n",
      "minimum residual= 2.3300025742019303e-15  at iteraions:  78\n"
     ]
    },
    {
     "data": {
      "image/png": "[encoded data removed]",
      "text/plain": [
       "<Figure size 640x480 with 1 Axes>"
      ]
     },
     "metadata": {},
     "output_type": "display_data"
    },
    {
     "name": "stdout",
     "output_type": "stream",
     "text": [
      "結果のノルム: 4.8106469314076635e-12\n"
     ]
    }
   ],
   "source": [
    "from LoopField import *\n",
    "if g !=0 : \n",
    "    fv, fafv=loopFieldCouplings(loops, s, model, fesTOmega)\n",
    "    print(\"fv=\", fv)\n",
    "    print(\"fafv\", fafv)\n",
    "    \n",
    "    fg=[]\n",
    "    for n in range(g): fg.append(0)\n",
    "    sol, amp =solver.SolveCoupled2(fesTOmega, a, fv, fafv, fRHS.vec.FV(), fg,\n",
    "                     tol=1.e-16, max_iter=200, accel_factor=0, logplot=True, complex=jomega)\n",
    "\n",
    "    gfTOmega = GridFunction(fesTOmega)   #Clear gfTOmega\n",
    "    gfT, gfOmega=gfTOmega.components\n",
    "    #np.array(gfTOmega.vec.FV(), copy=False)[fesTOmega.FreeDofs()] +=sol\n",
    "    for n in range(g):\n",
    "        if n==0:\n",
    "            loopsum= amp[0]*loops[0]\n",
    "        else:\n",
    "            loopsum +=amp[n]*loops[n]\n",
    "    gfT.Set(loopsum, BND, mesh.Boundaries(conductor_boundary))\n",
    "    np.array(gfTOmega.vec.FV(), copy=False)[fesTOmega.FreeDofs()] +=sol\n",
    "\n",
    "    Tfield=gfT\n",
    "    Tfield +=loopsum\n",
    "else:\n",
    "    gfTOmega = GridFunction(fesTOmega)   #Clear gfTOmega\n",
    "    gfT, gfOmega=gfTOmega.components\n",
    "    gfTOmega=solver.iccg_solve(fesTOmega, gfTOmega, a, fRHS.vec.FV(), tol=1.e-16, max_iter=200, accel_factor=0, logplot=True, complex=jomega)   \n",
    "    Tfield=gfT\n",
    "\n",
    "fesOt=H1(mesh, order=feorder, definedon=total_region, complex=jomega)\n",
    "fesOr=H1(mesh, order=feorder, definedon=reduced_region, complex=jomega)\n",
    "Ot=GridFunction(fesOt)\n",
    "Orr=GridFunction(fesOr)\n",
    "Oxr=GridFunction(fesOr)\n",
    "\n",
    "Ot.Set(gfOmega,VOL, definedon=total_region)\n",
    "Orr.Set(gfOmega,VOL, definedon=reduced_region)\n",
    "Oxr.Set(surfaceOmega, BND, mesh.Boundaries(total_boundary))\n",
    "#Oxr.Set(Ov, BND, mesh.Boundaries(total_boundary))\n",
    "\n",
    "Bt=grad(Ot)*Mu\n",
    "Or=Orr-Oxr\n",
    "Br=(grad(Orr)-grad(Oxr))*mu\n",
    "\n",
    "Bfield=Mu*Tfield+Bt+Br+Bs\n",
    "Jfield=curl(gfT)"
   ]
  },
  {
   "cell_type": "code",
   "execution_count": 6,
   "id": "50b763bc-a525-461c-a3cd-a7fd67bd481b",
   "metadata": {},
   "outputs": [
    {
     "name": "stdout",
     "output_type": "stream",
     "text": [
      "****** Bfield.real ******\n"
     ]
    },
    {
     "data": {
      "application/vnd.jupyter.widget-view+json": {
       "model_id": "d7e91f602a5a410ea6f3270e3e07456c",
       "version_major": 2,
       "version_minor": 0
      },
      "text/plain": [
       "WebGuiWidget(layout=Layout(height='50vh', width='100%'), value={'gui_settings': {}, 'ngsolve_version': '6.2.24…"
      ]
     },
     "metadata": {},
     "output_type": "display_data"
    },
    {
     "name": "stdout",
     "output_type": "stream",
     "text": [
      "****** Bfield.imag ******\n"
     ]
    },
    {
     "data": {
      "application/vnd.jupyter.widget-view+json": {
       "model_id": "053c6740b03541ef8eae0384a5fa9da1",
       "version_major": 2,
       "version_minor": 0
      },
      "text/plain": [
       "WebGuiWidget(layout=Layout(height='50vh', width='100%'), value={'gui_settings': {}, 'ngsolve_version': '6.2.24…"
      ]
     },
     "metadata": {},
     "output_type": "display_data"
    },
    {
     "name": "stdout",
     "output_type": "stream",
     "text": [
      "****** Jfield.real ******\n"
     ]
    },
    {
     "data": {
      "application/vnd.jupyter.widget-view+json": {
       "model_id": "a93bca44299e4c578d88cdb56df61278",
       "version_major": 2,
       "version_minor": 0
      },
      "text/plain": [
       "WebGuiWidget(layout=Layout(height='50vh', width='100%'), value={'gui_settings': {}, 'ngsolve_version': '6.2.24…"
      ]
     },
     "metadata": {},
     "output_type": "display_data"
    },
    {
     "name": "stdout",
     "output_type": "stream",
     "text": [
      "****** Jfield.imag ******\n"
     ]
    },
    {
     "data": {
      "application/vnd.jupyter.widget-view+json": {
       "model_id": "0ba47b4bf380425d8bcab6e24315a2a3",
       "version_major": 2,
       "version_minor": 0
      },
      "text/plain": [
       "WebGuiWidget(layout=Layout(height='50vh', width='100%'), value={'gui_settings': {}, 'ngsolve_version': '6.2.24…"
      ]
     },
     "metadata": {},
     "output_type": "display_data"
    }
   ],
   "source": [
    "from ngsolve import *\n",
    "from ngsolve.webgui import Draw\n",
    "if jomega==True:\n",
    "    print(\"****** Bfield.real ******\")\n",
    "    Draw (Bfield.real, mesh, order=3, deformation=False) \n",
    "    print(\"****** Bfield.imag ******\")\n",
    "    Draw (Bfield.imag, mesh, order=3, deformation=False) \n",
    "    print(\"****** Jfield.real ******\")\n",
    "    Draw (Jfield.real, mesh, order=3, deformation=False) \n",
    "    print(\"****** Jfield.imag ******\")\n",
    "    Draw (Jfield.imag, mesh, order=3, deformation=False) \n",
    "else:\n",
    "    print(\"****** Bfield ******\")\n",
    "    Draw (Bfield, mesh, order=3, deformation=False) \n",
    "    print(\"****** Jfield ******\")\n",
    "    Draw (Jfield, mesh, order=3, deformation=False) "
   ]
  },
  {
   "cell_type": "code",
   "execution_count": 7,
   "id": "0fb1f280-96d1-4d22-ac0d-8696281c5415",
   "metadata": {},
   "outputs": [
    {
     "name": "stdout",
     "output_type": "stream",
     "text": [
      " Average Joule loss=  0.2491427159967812\n"
     ]
    }
   ],
   "source": [
    "if jomega==False:\n",
    "    WJ=Integrate(Jfield*Jfield/Sigma*dx(conductive_region), mesh)\n",
    "else:\n",
    "    WJ=Integrate((Jfield.real*Jfield.real+Jfield.imag*Jfield.imag)/Sigma*dx(conductive_region), mesh) /2\n",
    "print(\" Average Joule loss= \", WJ)"
   ]
  },
  {
   "attachments": {
    "69a0f1f4-1afc-452a-bce2-d4ed5bacc4a9.png": {
     "image/png": "[encoded data removed]"
    },
    "fa8860f2-f75f-42dd-8613-31f132067bb3.png": {
     "image/png": "[encoded data removed]"
    }
   },
   "cell_type": "markdown",
   "id": "812bfec1-5628-410c-b2fe-c95467a7947d",
   "metadata": {},
   "source": [
    "Apply Coil field, 　Dirichlet=False, feOrder=3\n",
    "\n",
    "B field real [0, 0.00354]\n",
    "![image.png](attachment:69a0f1f4-1afc-452a-bce2-d4ed5bacc4a9.png)\n",
    "\n",
    "B field img [0, 0.00475]\n",
    "![image.png](attachment:fa8860f2-f75f-42dd-8613-31f132067bb3.png)\n",
    "\n",
    "center magnetic field =  ((0.0046114017915582835-0.0002700835030015863j), (-2.871086876578396e-08+6.144269445770649e-08j), (0.005696655611467302-0.0035804087837488048j))"
   ]
  },
  {
   "attachments": {
    "47447b7c-18dd-47ec-bb1a-89cbbcadcfcb.png": {
     "image/png": "[encoded data removed]"
    },
    "517163f4-e60f-4015-840e-cc6bc434b75f.png": {
     "image/png": "[encoded data removed]"
    },
    "9365b149-044e-4e5d-ba76-455aa38f79be.png": {
     "image/png": "[encoded data removed]"
    }
   },
   "cell_type": "markdown",
   "id": "d088356d-4986-4b1a-9778-7da997ee1f14",
   "metadata": {},
   "source": [
    "Apply Coil field, 　Dirichlet=False, feOrder=3\n",
    "\n",
    "J field real [0, 5.97e5]\n",
    "![image.png](attachment:517163f4-e60f-4015-840e-cc6bc434b75f.png)\n",
    "\n",
    "J field imag [0, 1.76e6]\n",
    "![image.png](attachment:47447b7c-18dd-47ec-bb1a-89cbbcadcfcb.png)\n",
    "\n",
    "Average Joule loss=  0.34934970207307614  <-->0.3486242392846813 (A-Phi, feOrder=3)\n",
    "\n",
    "![image.png](attachment:9365b149-044e-4e5d-ba76-455aa38f79be.png)"
   ]
  },
  {
   "cell_type": "code",
   "execution_count": null,
   "id": "bddfdef8-72c0-4c0e-b818-02a6cef9333d",
   "metadata": {},
   "outputs": [],
   "source": []
  }
 ],
 "metadata": {
  "kernelspec": {
   "display_name": "my_env",
   "language": "python",
   "name": "my_env"
  },
  "language_info": {
   "codemirror_mode": {
    "name": "ipython",
    "version": 3
   },
   "file_extension": ".py",
   "mimetype": "text/x-python",
   "name": "python",
   "nbconvert_exporter": "python",
   "pygments_lexer": "ipython3",
   "version": "3.10.5"
  }
 },
 "nbformat": 4,
 "nbformat_minor": 5
}
