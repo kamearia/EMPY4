{
 "cells": [
  {
   "cell_type": "code",
   "execution_count": 1,
   "id": "hourly-fever",
   "metadata": {},
   "outputs": [
    {
     "name": "stdout",
     "output_type": "stream",
     "text": [
      "Bath Plate Model    holes: 0    Thickness: 0.00635\n",
      "boxx=  0.2  boxy=  0.28  boxz=  0.4\n",
      "div_thick=  1\n",
      "name: conductor   mass: 4.191e-05   center: (-9.19197e-20, -2.9053e-19, 0)\n",
      "name: air   mass: 9.542999999999997e-05   center: (0, -3.40032e-20, -3.13594e-19)\n",
      "name: reduced   mass: 0.033372981638291145   center: (-1.29696e-17, -1.45627e-17, 9.02153e-20)\n",
      "conductive_region: conductor\n",
      "Conductor boundary: conductorBND\n",
      "{'conductor': 32780000.0, 'to_side': 32780000.0, 'from_side': 32780000.0, 'air': 0, 'reduced': 0, 'hole1': 0, 'hole2': 0, 'default': 0}\n",
      "{'conductor': 1.2566370614359173e-06, 'to_side': 1.2566370614359173e-06, 'from_side': 1.2566370614359173e-06, 'air': 1.2566370614359173e-06, 'reduced': 1.2566370614359173e-06, 'hole1': 1.2566370614359173e-06, 'hole2': 1.2566370614359173e-06, 'default': 1.2566370614359173e-06}\n",
      "class HolePot: num= 0  holes\n",
      "class MeasureFace: num= 0  faces\n"
     ]
    },
    {
     "data": {
      "application/vnd.jupyter.widget-view+json": {
       "model_id": "c150310885b84bb08cab865e14a4f3c6",
       "version_major": 2,
       "version_minor": 0
      },
      "text/plain": [
       "WebGuiWidget(layout=Layout(height='50vh', width='100%'), value={'ngsolve_version': 'Netgen x.x', 'mesh_dim': 3…"
      ]
     },
     "metadata": {},
     "output_type": "display_data"
    },
    {
     "data": {
      "application/vnd.jupyter.widget-view+json": {
       "model_id": "163e0f58236a4080879373f79e639a2c",
       "version_major": 2,
       "version_minor": 0
      },
      "text/plain": [
       "WebGuiWidget(layout=Layout(height='50vh', width='100%'), value={'gui_settings': {}, 'ngsolve_version': '6.2.24…"
      ]
     },
     "metadata": {},
     "output_type": "display_data"
    },
    {
     "data": {
      "text/plain": [
       "BaseWebGuiScene"
      ]
     },
     "execution_count": 1,
     "metadata": {},
     "output_type": "execute_result"
    }
   ],
   "source": [
    "from ngsolve import *\n",
    "from ngsolve.webgui import Draw\n",
    "from netgen.webgui import Draw as DrawGeo\n",
    "import math\n",
    "import numpy as np\n",
    "import sys\n",
    "sys.path.append(r'..\\..\\bin\\Release') \n",
    "from EMPY_Field import *\n",
    "sys.path.append('C..\\include')\n",
    "from MatrixSolver import MatrixSolver as solver \n",
    "sys.path.append('..\\model')\n",
    "from BathPlateModel import BathPlateModel\n",
    "\n",
    "model=BathPlateModel(holes=0,outerBox=\"sphere\", boxx=0.2, div_thick=1)\n",
    "DrawGeo(model.model)\n",
    "mesh=model.mesh\n",
    "Draw(mesh)\n"
   ]
  },
  {
   "cell_type": "code",
   "execution_count": 2,
   "id": "9661f2c2-227e-4ae2-9cec-3e1a143f9fb1",
   "metadata": {
    "scrolled": true
   },
   "outputs": [
    {
     "name": "stdout",
     "output_type": "stream",
     "text": [
      "enter iccg_solve\n",
      "Dof= 3013    matrix size= 28251.0\n",
      "結果のノルム: 1.297681508173611e-15\n",
      "power=  (-2.1076077252658503+710.4617498078371j)\n",
      "((-3.0043121174325884e-05-3.9918689897638895e-05j), (-1.4272022529490094e-05-3.0316746109014333e-05j), (0.0064762725805856975-0.005395486161019955j))\n"
     ]
    }
   ],
   "source": [
    "import math\n",
    "import sys\n",
    "sys.path.append('C:\\EMSolution\\EMSolPy3\\python\\include')\n",
    "from MatrixSolver import MatrixSolver as solver \n",
    "\n",
    "jomega=True\n",
    "f=50\n",
    "if jomega==True:\n",
    "    s=2j*math.pi*f\n",
    "else:\n",
    "    s=2*math.pi*f\n",
    "Dirichlet=True\n",
    "feorder=1\n",
    "\n",
    "Mu=model.Mu\n",
    "field=UNIF(0,0,0.01,0)\n",
    "symmetric_plane=model.symmetric_plane\n",
    "Mu=model.Mu\n",
    "Sigma=model.Sigma\n",
    "reduced_region=model.reduced_region\n",
    "total_region=model.total_region\n",
    "conductive_region=model.conductive_region\n",
    "air_region=model.air_region\n",
    "total_boundary=model.total_boundary\n",
    "reduced_boundary=model.reduced_boundary\n",
    "conductor_boundary=model.conductor_boundary\n",
    "\n",
    "mu=4.e-7*math.pi\n",
    "normal = specialcf.normal(mesh.dim)\n",
    "\n",
    "fesT=HCurl(mesh, order=feorder, nograd=True, definedon=conductive_region, dirichlet=conductor_boundary, complex=jomega) \n",
    "if Dirichlet==False:\n",
    "    fesOmega=H1(mesh, order=feorder, complex=jomega)\n",
    "else:\n",
    "    fesOmega=H1(mesh, order=feorder, dirichlet=reduced_boundary, complex=jomega)\n",
    "fesTOmega=fesT*fesOmega    \n",
    "(T,omega),(W,psi) = fesTOmega.TnT()\n",
    "a= BilinearForm(fesTOmega)\n",
    "a +=s*Mu*(grad(omega)*grad(psi))*dx(air_region)\n",
    "a +=s*Mu*((T+grad(omega))*(W+grad(psi)))*dx(conductive_region)\n",
    "a +=1/Sigma*curl(T)*curl(W)*dx(conductive_region)\n",
    "with TaskManager():\n",
    "    a.Assemble()\n",
    "\n",
    "gfTOmega = GridFunction(fesTOmega)\n",
    "gfT, gfOmega=gfTOmega.components\n",
    "if Dirichlet==False:\n",
    "    b=Bfield(field)\n",
    "    f = LinearForm(fesTOmega)\n",
    "    f += s*(normal*b)*psi*ds(reduced_boundary)\n",
    "    with TaskManager():\n",
    "        f.Assemble()\n",
    "    gfTOmega=solver.iccg_solve(fesTOmega, gfTOmega, a, f.vec.FV(), tol=1.e-16, max_iter=200, accel_factor=0., complex=jomega)\n",
    "\n",
    "else:  \n",
    "    O=Ofield(field)\n",
    "    gfOmega.Set(O, BND, mesh.Boundaries(reduced_boundary))\n",
    "    \"\"\"\n",
    "    r=-a.mat*gfTOmega.vec\n",
    "    gfTOmega=solver.iccg_solve(fesTOmega, gfTOmega, a, r.Evaluate(), tol=1.e-16, max_iter=200, accel_factor=1.1, complex=jomega)\n",
    "\n",
    "    \"\"\"\n",
    "    f = LinearForm(fesTOmega)\n",
    "    f +=-s*Mu*grad(gfOmega)*grad(psi)*dx\n",
    "    with TaskManager():\n",
    "        f.Assemble()  \n",
    "    gfTOmega=solver.iccg_solve(fesTOmega, gfTOmega, a, f.vec.FV(), tol=1.e-16, max_iter=200, accel_factor=0, complex=jomega)\n",
    "    \n",
    " \n",
    "#Draw (gfOmega*mu, mesh, order=3, min=0., max=1.0, deformation=False)       \n",
    "Bfield=Mu*(gfT+grad(gfOmega))\n",
    "#Draw (Bfield, mesh, order=3, min=0.5, max=1.5, deformation=False)\n",
    "Jfield=curl(gfT)\n",
    "\n",
    "mip = mesh(0,0,0)\n",
    "print(Bfield(mip))\n"
   ]
  },
  {
   "cell_type": "code",
   "execution_count": 3,
   "id": "0d263f05-0fce-4da5-a568-3fa912d3aa02",
   "metadata": {},
   "outputs": [
    {
     "name": "stdout",
     "output_type": "stream",
     "text": [
      " Average Joule loss=  1.0538038626329458\n"
     ]
    }
   ],
   "source": [
    "if jomega==False:\n",
    "    WJ=Integrate(Jfield*Jfield/Sigma*dx(conductive_region, mesh))\n",
    "else:\n",
    "    WJ=Integrate((Jfield.real*Jfield.real+Jfield.imag*Jfield.imag)/Sigma*dx(conductive_region), mesh) /2\n",
    "print(\" Average Joule loss= \", WJ)"
   ]
  },
  {
   "cell_type": "code",
   "execution_count": 4,
   "id": "a9a60666-f284-4e56-8c42-6e39c2f80e51",
   "metadata": {
    "scrolled": true
   },
   "outputs": [
    {
     "name": "stdout",
     "output_type": "stream",
     "text": [
      "****** Bfield.real ******\n"
     ]
    },
    {
     "data": {
      "application/vnd.jupyter.widget-view+json": {
       "model_id": "e131907a5f3741169f26393d5a4b2ef3",
       "version_major": 2,
       "version_minor": 0
      },
      "text/plain": [
       "WebGuiWidget(layout=Layout(height='50vh', width='100%'), value={'gui_settings': {}, 'ngsolve_version': '6.2.24…"
      ]
     },
     "metadata": {},
     "output_type": "display_data"
    },
    {
     "name": "stdout",
     "output_type": "stream",
     "text": [
      "****** Bfield.imag ******\n"
     ]
    },
    {
     "data": {
      "application/vnd.jupyter.widget-view+json": {
       "model_id": "eb012994ddba462bb8698df5fe0d8142",
       "version_major": 2,
       "version_minor": 0
      },
      "text/plain": [
       "WebGuiWidget(layout=Layout(height='50vh', width='100%'), value={'gui_settings': {}, 'ngsolve_version': '6.2.24…"
      ]
     },
     "metadata": {},
     "output_type": "display_data"
    },
    {
     "name": "stdout",
     "output_type": "stream",
     "text": [
      "****** Jfield.real ******\n"
     ]
    },
    {
     "data": {
      "application/vnd.jupyter.widget-view+json": {
       "model_id": "fb0753f5d9664f029f10f95623aa4b03",
       "version_major": 2,
       "version_minor": 0
      },
      "text/plain": [
       "WebGuiWidget(layout=Layout(height='50vh', width='100%'), value={'gui_settings': {}, 'ngsolve_version': '6.2.24…"
      ]
     },
     "metadata": {},
     "output_type": "display_data"
    },
    {
     "name": "stdout",
     "output_type": "stream",
     "text": [
      "****** Jfield.imag ******\n"
     ]
    },
    {
     "data": {
      "application/vnd.jupyter.widget-view+json": {
       "model_id": "3e84472a6da64ec5aeffbd021eba094b",
       "version_major": 2,
       "version_minor": 0
      },
      "text/plain": [
       "WebGuiWidget(layout=Layout(height='50vh', width='100%'), value={'gui_settings': {}, 'ngsolve_version': '6.2.24…"
      ]
     },
     "metadata": {},
     "output_type": "display_data"
    }
   ],
   "source": [
    "if jomega==True:\n",
    "    print(\"****** Bfield.real ******\")\n",
    "    Draw (Bfield.real, mesh, order=3, deformation=False) \n",
    "    print(\"****** Bfield.imag ******\")\n",
    "    Draw (Bfield.imag, mesh, order=3, deformation=False) \n",
    "    print(\"****** Jfield.real ******\")\n",
    "    Draw (Jfield.real, mesh, order=3, deformation=False) \n",
    "    print(\"****** Jfield.imag ******\")\n",
    "    Draw (Jfield.imag, mesh, order=3, deformation=False) \n",
    "else:\n",
    "    print(\"****** Bfield ******\")\n",
    "    Draw (Bfield, mesh, order=3, deformation=False) \n",
    "    print(\"****** Jfield ******\")\n",
    "#    Draw (Jfield, mesh, order=3, deformation=False) "
   ]
  },
  {
   "attachments": {
    "93fbcd93-38ed-4316-bd64-791e3c744f03.png": {
     "image/png": "[encoded data removed]"
    },
    "a19783bb-8587-4125-af65-0ea4abe8ce1f.png": {
     "image/png": "[encoded data removed]"
    }
   },
   "cell_type": "markdown",
   "id": "521e1aff-4c2b-4e1a-b0a2-3af773a09196",
   "metadata": {},
   "source": [
    "feOrder=1\n",
    "Dirichlet=True\n",
    "\n",
    "Jz real [0, 1e6]\n",
    "![image.png](attachment:a19783bb-8587-4125-af65-0ea4abe8ce1f.png)\n",
    "Jz imag [0, 2e6] \n",
    "![image.png](attachment:93fbcd93-38ed-4316-bd64-791e3c744f03.png)\n",
    "\n",
    " Average Joule loss=  1.0538038626329458\n",
    "\n",
    " Neary same result with A-Phi method. \n",
    "\n",
    "feOrder>=2 doesn't work!"
   ]
  },
  {
   "cell_type": "code",
   "execution_count": null,
   "id": "c4fa6cab-02d0-4628-b855-5ab05611b06d",
   "metadata": {},
   "outputs": [],
   "source": []
  }
 ],
 "metadata": {
  "kernelspec": {
   "display_name": "my_env",
   "language": "python",
   "name": "my_env"
  },
  "language_info": {
   "codemirror_mode": {
    "name": "ipython",
    "version": 3
   },
   "file_extension": ".py",
   "mimetype": "text/x-python",
   "name": "python",
   "nbconvert_exporter": "python",
   "pygments_lexer": "ipython3",
   "version": "3.10.5"
  }
 },
 "nbformat": 4,
 "nbformat_minor": 5
}
