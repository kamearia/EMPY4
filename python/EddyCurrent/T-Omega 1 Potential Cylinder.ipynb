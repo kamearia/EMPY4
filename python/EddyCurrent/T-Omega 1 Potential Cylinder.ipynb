{
 "cells": [
  {
   "cell_type": "code",
   "execution_count": 1,
   "id": "hourly-fever",
   "metadata": {},
   "outputs": [
    {
     "data": {
      "application/vnd.jupyter.widget-view+json": {
       "model_id": "977e4c0d9541411fafa6e9de1c3fe4e3",
       "version_major": 2,
       "version_minor": 0
      },
      "text/plain": [
       "WebGuiWidget(layout=Layout(height='50vh', width='100%'), value={'gui_settings': {}, 'ngsolve_version': '6.2.24…"
      ]
     },
     "metadata": {},
     "output_type": "display_data"
    },
    {
     "data": {
      "text/plain": [
       "BaseWebGuiScene"
      ]
     },
     "execution_count": 1,
     "metadata": {},
     "output_type": "execute_result"
    }
   ],
   "source": [
    "\n",
    "from ngsolve import *\n",
    "from ngsolve.webgui import Draw\n",
    "from netgen.webgui import Draw as DrawGeo\n",
    "import sys\n",
    "sys.path.append(r'..\\..\\bin\\Release') \n",
    "from EMPY_Field import *\n",
    "sys.path.append('..\\model')\n",
    "from Cylinder_Yaxis_1Layer import Cylinder_Yaxis_1Layer\n",
    "\n",
    "model=Cylinder_Yaxis_1Layer(sigma=5.e7)\n",
    "mesh=model.mesh\n",
    "Draw(mesh)\n"
   ]
  },
  {
   "cell_type": "code",
   "execution_count": 2,
   "id": "9661f2c2-227e-4ae2-9cec-3e1a143f9fb1",
   "metadata": {
    "scrolled": true
   },
   "outputs": [
    {
     "name": "stdout",
     "output_type": "stream",
     "text": [
      "enter iccg_solve\n",
      "Dof= 2550    matrix size= 61613.0\n",
      "結果のノルム: 3.440394454694639e-12\n",
      "power=  (-492.33535689112307+486988.30955769424j)\n",
      "((0.0017552414110892313+0.0028609126577375946j), (1.4632621560080081-0.979335558458502j), (-5.8426262259769205e-12-1.3261580969506687e-12j))\n"
     ]
    }
   ],
   "source": [
    "import math\n",
    "import sys\n",
    "sys.path.append('C:\\EMSolution\\EMSolPy3\\python\\include')\n",
    "from MatrixSolver import MatrixSolver as solver \n",
    "\n",
    "jomega=True\n",
    "f=0.1\n",
    "if jomega==True:\n",
    "    s=2j*math.pi*f\n",
    "else:\n",
    "    s=2*math.pi*f\n",
    "Dirichlet=True\n",
    "feorder=1\n",
    "\n",
    "Mu=model.Mu\n",
    "field=UNIF(0,1,0,0)\n",
    "symmetric_plane=model.symmetric_plane\n",
    "Mu=model.Mu\n",
    "Sigma=model.Sigma\n",
    "reduced_region=model.reduced_region\n",
    "total_region=model.total_region\n",
    "conductive_region=model.conductive_region\n",
    "air_region=model.air_region\n",
    "total_boundary=model.total_boundary\n",
    "reduced_boundary=model.reduced_boundary\n",
    "conductor_boundary=model.conductor_boundary\n",
    "\n",
    "mu=4.e-7*math.pi\n",
    "normal = specialcf.normal(mesh.dim)\n",
    "\n",
    "fesT=HCurl(mesh, order=feorder, nograd=True, definedon=conductive_region, dirichlet=conductor_boundary, complex=jomega) \n",
    "if Dirichlet==False:\n",
    "    fesOmega=H1(mesh, order=feorder, complex=jomega)\n",
    "else:\n",
    "    fesOmega=H1(mesh, order=feorder, dirichlet=reduced_boundary, complex=jomega)\n",
    "fesTOmega=fesT*fesOmega    \n",
    "(T,omega),(W,psi) = fesTOmega.TnT()\n",
    "a= BilinearForm(fesTOmega)\n",
    "a +=s*Mu*(grad(omega)*grad(psi))*dx(air_region)\n",
    "a +=s*Mu*((T+grad(omega))*(W+grad(psi)))*dx(conductive_region)\n",
    "a +=1/Sigma*curl(T)*curl(W)*dx(conductive_region)\n",
    "with TaskManager():\n",
    "    a.Assemble()\n",
    "\n",
    "gfTOmega = GridFunction(fesTOmega)\n",
    "gfT, gfOmega=gfTOmega.components\n",
    "if Dirichlet==False:\n",
    "    b=Bfield(field)\n",
    "    f = LinearForm(fesTOmega)\n",
    "    f += s*(normal*b)*psi*ds(\"reduced_boundary\")\n",
    "    with TaskManager():\n",
    "        f.Assemble()\n",
    "    gfTOmega=solver.iccg_solve(fesTOmega, gfTOmega, a, f.vec.FV(), tol=1.e-16, max_iter=200, accel_factor=0., complex=jomega)\n",
    "\n",
    "else:  \n",
    "    O=Ofield(field)\n",
    "    gfOmega.Set(O, BND, mesh.Boundaries(\"reduced_boundary\"))\n",
    "    \"\"\"\n",
    "    r=-a.mat*gfTOmega.vec\n",
    "    gfTOmega=solver.iccg_solve(fesTOmega, gfTOmega, a, r.Evaluate(), tol=1.e-16, max_iter=200, accel_factor=0, complex=jomega)\n",
    "\n",
    "    \"\"\"\n",
    "    f = LinearForm(fesTOmega)\n",
    "    f +=-s*Mu*grad(gfOmega)*grad(psi)*dx\n",
    "    with TaskManager():\n",
    "        f.Assemble()  \n",
    "    gfTOmega=solver.iccg_solve(fesTOmega, gfTOmega, a, f.vec.FV(), tol=1.e-16, max_iter=200, accel_factor=0, complex=jomega)\n",
    "    \n",
    " \n",
    "#Draw (gfOmega*mu, mesh, order=3, min=0., max=1.0, deformation=False)       \n",
    "Bfield=Mu*(gfT+grad(gfOmega))\n",
    "#Draw (Bfield, mesh, order=3, min=0.5, max=1.5, deformation=False)\n",
    "Jfield=curl(gfT)\n",
    "\n",
    "mip = mesh(0,0,0)\n",
    "print(Bfield(mip))\n"
   ]
  },
  {
   "cell_type": "code",
   "execution_count": 3,
   "id": "0d263f05-0fce-4da5-a568-3fa912d3aa02",
   "metadata": {},
   "outputs": [
    {
     "name": "stdout",
     "output_type": "stream",
     "text": [
      " Average Joule loss=  246.16768508023424\n"
     ]
    }
   ],
   "source": [
    "if jomega==False:\n",
    "    WJ=Integrate(Jfield*Jfield/Sigma*dx(conductive_region, mesh))\n",
    "else:\n",
    "    WJ=Integrate((Jfield.real*Jfield.real+Jfield.imag*Jfield.imag)/Sigma*dx(conductive_region), mesh) /2\n",
    "print(\" Average Joule loss= \", WJ)"
   ]
  },
  {
   "cell_type": "code",
   "execution_count": 4,
   "id": "a9a60666-f284-4e56-8c42-6e39c2f80e51",
   "metadata": {},
   "outputs": [
    {
     "name": "stdout",
     "output_type": "stream",
     "text": [
      "****** Bfield.real ******\n"
     ]
    },
    {
     "data": {
      "application/vnd.jupyter.widget-view+json": {
       "model_id": "65706e97257145a0b0416d0d4c7e1644",
       "version_major": 2,
       "version_minor": 0
      },
      "text/plain": [
       "WebGuiWidget(layout=Layout(height='50vh', width='100%'), value={'gui_settings': {}, 'ngsolve_version': '6.2.24…"
      ]
     },
     "metadata": {},
     "output_type": "display_data"
    },
    {
     "name": "stdout",
     "output_type": "stream",
     "text": [
      "****** Bfield.imag ******\n"
     ]
    },
    {
     "data": {
      "application/vnd.jupyter.widget-view+json": {
       "model_id": "fe1bbbc77624419cb41681cca94c67c9",
       "version_major": 2,
       "version_minor": 0
      },
      "text/plain": [
       "WebGuiWidget(layout=Layout(height='50vh', width='100%'), value={'gui_settings': {}, 'ngsolve_version': '6.2.24…"
      ]
     },
     "metadata": {},
     "output_type": "display_data"
    },
    {
     "name": "stdout",
     "output_type": "stream",
     "text": [
      "****** Jfield.real ******\n"
     ]
    },
    {
     "data": {
      "application/vnd.jupyter.widget-view+json": {
       "model_id": "e4b127d3964f4ad7996b0d5c156cf2c3",
       "version_major": 2,
       "version_minor": 0
      },
      "text/plain": [
       "WebGuiWidget(layout=Layout(height='50vh', width='100%'), value={'gui_settings': {}, 'ngsolve_version': '6.2.24…"
      ]
     },
     "metadata": {},
     "output_type": "display_data"
    },
    {
     "name": "stdout",
     "output_type": "stream",
     "text": [
      "****** Jfield.imag ******\n"
     ]
    },
    {
     "data": {
      "application/vnd.jupyter.widget-view+json": {
       "model_id": "be034b337ee14425a862b5f3ef8da770",
       "version_major": 2,
       "version_minor": 0
      },
      "text/plain": [
       "WebGuiWidget(layout=Layout(height='50vh', width='100%'), value={'gui_settings': {}, 'ngsolve_version': '6.2.24…"
      ]
     },
     "metadata": {},
     "output_type": "display_data"
    }
   ],
   "source": [
    "if jomega==True:\n",
    "    print(\"****** Bfield.real ******\")\n",
    "    Draw (Bfield.real, mesh, order=3, deformation=False) \n",
    "    print(\"****** Bfield.imag ******\")\n",
    "    Draw (Bfield.imag, mesh, order=3, deformation=False) \n",
    "    print(\"****** Jfield.real ******\")\n",
    "    Draw (Jfield.real, mesh, order=3, deformation=False) \n",
    "    print(\"****** Jfield.imag ******\")\n",
    "    Draw (Jfield.imag, mesh, order=3, deformation=False) \n",
    "else:\n",
    "    print(\"****** Bfield ******\")\n",
    "    Draw (Bfield, mesh, order=3, deformation=False) \n",
    "    print(\"****** Jfield ******\")\n",
    "#    Draw (Jfield, mesh, order=3, deformation=False) "
   ]
  },
  {
   "attachments": {
    "0a28c0bb-c775-4dcc-8b35-d62d2ffbb93b.png": {
     "image/png": "[encoded data removed]"
    },
    "241cc9f8-9a77-41e4-9a2d-4015f6deef67.png": {
     "image/png": "[encoded data removed]"
    },
    "490254fc-fe62-42b7-9273-7e057369b3b3.png": {
     "image/png": "[encoded data removed]"
    },
    "9afdb5a9-fe19-4cb1-8005-f7454b8cb4f4.png": {
     "image/png": "[encoded data removed]"
    }
   },
   "cell_type": "markdown",
   "id": "521e1aff-4c2b-4e1a-b0a2-3af773a09196",
   "metadata": {},
   "source": [
    "feOrder=1\n",
    "Dirichlet=True\n",
    "\n",
    "Jz real [-1e6, 1e6]\n",
    "![image.png](attachment:241cc9f8-9a77-41e4-9a2d-4015f6deef67.png)\n",
    "\n",
    "Jz imag [-5e6, 5e6] \n",
    "![image.png](attachment:0a28c0bb-c775-4dcc-8b35-d62d2ffbb93b.png)\n",
    "\n",
    " Average Joule loss=  246.16768507993692\n",
    "\n",
    "Dirichlet=False\n",
    "\n",
    "Jz real [-1e6, 1e6]\n",
    "![image.png](attachment:490254fc-fe62-42b7-9273-7e057369b3b3.png)\n",
    "\n",
    "Jz imag [-5e6, 5e6] \n",
    "![image.png](attachment:9afdb5a9-fe19-4cb1-8005-f7454b8cb4f4.png)\n",
    "\n",
    " Average Joule loss=  238.35604627254958"
   ]
  },
  {
   "cell_type": "code",
   "execution_count": null,
   "id": "c4fa6cab-02d0-4628-b855-5ab05611b06d",
   "metadata": {},
   "outputs": [],
   "source": []
  }
 ],
 "metadata": {
  "kernelspec": {
   "display_name": "my_env",
   "language": "python",
   "name": "my_env"
  },
  "language_info": {
   "codemirror_mode": {
    "name": "ipython",
    "version": 3
   },
   "file_extension": ".py",
   "mimetype": "text/x-python",
   "name": "python",
   "nbconvert_exporter": "python",
   "pygments_lexer": "ipython3",
   "version": "3.10.5"
  }
 },
 "nbformat": 4,
 "nbformat_minor": 5
}
