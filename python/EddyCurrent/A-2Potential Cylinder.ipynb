{
 "cells": [
  {
   "cell_type": "code",
   "execution_count": 1,
   "id": "147fbd7a-a039-4333-9230-d4253541b4be",
   "metadata": {},
   "outputs": [
    {
     "data": {
      "application/vnd.jupyter.widget-view+json": {
       "model_id": "b2b2c7423f3c436aa15747f2ff2e27fc",
       "version_major": 2,
       "version_minor": 0
      },
      "text/plain": [
       "WebGuiWidget(layout=Layout(height='50vh', width='100%'), value={'gui_settings': {}, 'ngsolve_version': '6.2.24…"
      ]
     },
     "metadata": {},
     "output_type": "display_data"
    },
    {
     "data": {
      "text/plain": [
       "BaseWebGuiScene"
      ]
     },
     "execution_count": 1,
     "metadata": {},
     "output_type": "execute_result"
    }
   ],
   "source": [
    "from ngsolve import *\n",
    "from ngsolve.webgui import Draw\n",
    "from netgen.webgui import Draw as DrawGeo\n",
    "import math\n",
    "import numpy as np\n",
    "import sys\n",
    "sys.path.append(r'..\\..\\bin\\Release') \n",
    "from EMPY_Field import *\n",
    "sys.path.append('..\\include')\n",
    "from MatrixSolver import MatrixSolver as solver \n",
    "sys.path.append('..\\model')\n",
    "from Cylinder_Yaxis_1Layer import Cylinder_Yaxis_1Layer\n",
    "\n",
    "model=Cylinder_Yaxis_1Layer(sigma=5.e7)\n",
    "\n",
    "mesh=model.mesh\n",
    "Draw(mesh)\n"
   ]
  },
  {
   "cell_type": "code",
   "execution_count": 2,
   "id": "6893f3f3-7de2-404f-86dd-f63203a56ce2",
   "metadata": {
    "scrolled": true
   },
   "outputs": [
    {
     "name": "stdout",
     "output_type": "stream",
     "text": [
      "enter iccg_solve\n",
      "Dof= 35925    matrix size= 1798695.0\n",
      "結果のノルム: 1.5361852571215145e-15\n",
      "power=  (74234.51006276465-769.8987448021066j)\n",
      "**** A field ****\n",
      "**** B field ****\n",
      "center magnetic field =  ((-3.739974302290506e-06+2.3431155459273613e-06j), (1.4544223972554935-0.9395128476769341j), (-3.8865727482054404e-16-6.05158737305841e-16j))\n"
     ]
    }
   ],
   "source": [
    "import math\n",
    "jomega=True\n",
    "f=0.1\n",
    "if jomega==True:\n",
    "    s=2j*math.pi*f\n",
    "else:\n",
    "    s=2*math.pi*f\n",
    "Dirichlet=False\n",
    "feorder=3\n",
    "\n",
    "symmetric_plane=model.symmetric_plane\n",
    "Mu=model.Mu\n",
    "Sigma=model.Sigma\n",
    "reduced_region=model.reduced_region\n",
    "total_region=model.total_region\n",
    "conductive_region=model.conductive_region\n",
    "total_boundary=model.total_boundary\n",
    "reduced_boundary=model.reduced_boundary\n",
    "\n",
    "coil=UNIF(0,1,0,2)\n",
    "Av=Afield(coil)\n",
    "Bv=Bfield(coil)\n",
    "mu=4.e-7*math.pi\n",
    "Hv=Bv/mu\n",
    "As=model.ReducedField(Av, (0,0,0))\n",
    "Bs=model.ReducedField(Bv, (0,0,0))\n",
    "\n",
    "if Dirichlet==True:\n",
    "    fesA=HCurl(mesh, order=feorder, dirichlet=symmetric_plane+'|'+reduced_boundary, nograds=True, complex=jomega)\n",
    "else:\n",
    "    fesA=HCurl(mesh, order=feorder, dirichlet=symmetric_plane, nograds=True, complex=jomega) \n",
    "A,N = fesA.TnT() \n",
    "gfA = GridFunction(fesA)\n",
    "normal = specialcf.normal(mesh.dim)\n",
    "\n",
    "a= BilinearForm(fesA)\n",
    "a +=1/Mu*curl(A)*curl(N)*dx\n",
    "a +=s*Sigma*A*N*dx(conductive_region)\n",
    "with TaskManager():\n",
    "    a.Assemble()\n",
    "\n",
    "# Calculate Dirichlet condition terms\n",
    "gfA.Set(Av, BND, mesh.Boundaries(total_boundary))\n",
    "f = LinearForm(fesA)\n",
    "f +=1/Mu*curl(gfA)*curl(N)*dx(reduced_region)\n",
    "\n",
    "with TaskManager():\n",
    "    f.Assemble()    \n",
    "#remove components of the Dirichlet boundary\n",
    "fcut = np.array(f.vec.FV())[fesA.FreeDofs()]\n",
    "np.array(f.vec.FV(), copy=False)[fesA.FreeDofs()] = fcut\n",
    "\n",
    "# Add Neumann condition terms\n",
    "f += Cross(N.Trace(),Hv)*normal*ds(total_boundary)\n",
    "with TaskManager():\n",
    "    f.Assemble()\n",
    "gfA = GridFunction(fesA)   #Clear gfA\n",
    "gfA=solver.iccg_solve(fesA, gfA, a, f.vec.FV(), tol=1.e-16, max_iter=200, accel_factor=0, complex=jomega) \n",
    "\n",
    "fesAt=HCurl(mesh, order=feorder, definedon=total_region, dirichlet=symmetric_plane, nograds=True, complex=jomega)\n",
    "fesAr=HCurl(mesh, order=feorder, definedon=reduced_region, dirichlet=symmetric_plane, nograds=True, complex=jomega)\n",
    "At=GridFunction(fesAt)\n",
    "Arr=GridFunction(fesAr)\n",
    "Axr=GridFunction(fesAr)\n",
    "At.Set(gfA,VOL, definedon=total_region)\n",
    "Arr.Set(gfA,VOL, definedon=reduced_region)\n",
    "Axr.Set(Av, BND, mesh.Boundaries(total_boundary))\n",
    "\n",
    "Bt=curl(At)\n",
    "Ar=Arr-Axr\n",
    "Br=curl(Arr)-curl(Axr)\n",
    "\n",
    "print(\"**** A field ****\")\n",
    "Afield=At+Ar+As\n",
    "#Draw (Afield, mesh, order=3, min=-1.0, max=1.0, deformation=False)  \n",
    "print(\"**** B field ****\")\n",
    "Bfield=Bt+Br+Bs\n",
    "\n",
    "Jfield=-s*Sigma*At\n",
    "\n",
    "mip = mesh(0,0,0)\n",
    "print(\"center magnetic field = \", Bfield(mip))"
   ]
  },
  {
   "cell_type": "code",
   "execution_count": 3,
   "id": "119e0d50-6ec1-42da-9763-bd9e7b1c8044",
   "metadata": {
    "scrolled": true
   },
   "outputs": [
    {
     "name": "stdout",
     "output_type": "stream",
     "text": [
      " Average Joule loss=  241.87082405508121\n"
     ]
    }
   ],
   "source": [
    "if jomega==False:\n",
    "    WJ=Integrate(Jfield*Jfield/Sigma*dx(conductive_region, mesh))\n",
    "else:\n",
    "    WJ=Integrate((Jfield.real*Jfield.real+Jfield.imag*Jfield.imag)/Sigma*dx(conductive_region), mesh) /2\n",
    "print(\" Average Joule loss= \", WJ)"
   ]
  },
  {
   "cell_type": "code",
   "execution_count": 4,
   "id": "8489d7c9-a793-4042-ac35-ed63fff1d4e3",
   "metadata": {
    "scrolled": true
   },
   "outputs": [
    {
     "name": "stdout",
     "output_type": "stream",
     "text": [
      "**** B field real****\n"
     ]
    },
    {
     "data": {
      "application/vnd.jupyter.widget-view+json": {
       "model_id": "8c0300494eda4d5a92cd8d825f6c8e00",
       "version_major": 2,
       "version_minor": 0
      },
      "text/plain": [
       "WebGuiWidget(layout=Layout(height='50vh', width='100%'), value={'gui_settings': {}, 'ngsolve_version': '6.2.24…"
      ]
     },
     "metadata": {},
     "output_type": "display_data"
    },
    {
     "name": "stdout",
     "output_type": "stream",
     "text": [
      "**** B field imag****\n"
     ]
    },
    {
     "data": {
      "application/vnd.jupyter.widget-view+json": {
       "model_id": "4181f95be3594e0dbfb17a06cd0d1d5a",
       "version_major": 2,
       "version_minor": 0
      },
      "text/plain": [
       "WebGuiWidget(layout=Layout(height='50vh', width='100%'), value={'gui_settings': {}, 'ngsolve_version': '6.2.24…"
      ]
     },
     "metadata": {},
     "output_type": "display_data"
    },
    {
     "name": "stdout",
     "output_type": "stream",
     "text": [
      "**** J field real ****\n"
     ]
    },
    {
     "data": {
      "application/vnd.jupyter.widget-view+json": {
       "model_id": "ff5d2f39f2d044c0b34858e7c305f479",
       "version_major": 2,
       "version_minor": 0
      },
      "text/plain": [
       "WebGuiWidget(layout=Layout(height='50vh', width='100%'), value={'gui_settings': {}, 'ngsolve_version': '6.2.24…"
      ]
     },
     "metadata": {},
     "output_type": "display_data"
    },
    {
     "name": "stdout",
     "output_type": "stream",
     "text": [
      "**** J field imag ****\n"
     ]
    },
    {
     "data": {
      "application/vnd.jupyter.widget-view+json": {
       "model_id": "60094f3d82d54d64bd6834dbf96341d2",
       "version_major": 2,
       "version_minor": 0
      },
      "text/plain": [
       "WebGuiWidget(layout=Layout(height='50vh', width='100%'), value={'gui_settings': {}, 'ngsolve_version': '6.2.24…"
      ]
     },
     "metadata": {},
     "output_type": "display_data"
    }
   ],
   "source": [
    "if jomega==False:\n",
    "    with TaskManager():Draw (Bfield, mesh, order=3, min=0., max=1.2, deformation=False) \n",
    "else:\n",
    "    print(\"**** B field real****\")\n",
    "    with TaskManager():Draw (Bfield.real, mesh, order=3, min=0., max=1.2, deformation=False) \n",
    "    print(\"**** B field imag****\")\n",
    "    with TaskManager():Draw (Bfield.imag, mesh, order=3, min=0., max=1.2, deformation=False) \n",
    "\n",
    "if jomega==False:\n",
    "    print(\"**** J field ****\")\n",
    "    with TaskManager():Draw (Jfield, mesh, order=3, deformation=False) \n",
    "else:\n",
    "    print(\"**** J field real ****\")\n",
    "    with TaskManager():Draw (Jfield.real, mesh, order=3, deformation=False) \n",
    "    print(\"**** J field imag ****\")\n",
    "    with TaskManager():Draw (Jfield.imag, mesh, order=3, deformation=False) "
   ]
  },
  {
   "attachments": {
    "21ca30b3-794f-4875-bc99-adf003e5ad78.png": {
     "image/png": "[encoded data removed]"
    },
    "598c174d-2fca-49d2-8870-74271a151c79.png": {
     "image/png": "[encoded data removed]"
    },
    "a472c209-1665-4ecb-8458-f936d42b27a2.png": {
     "image/png": "[encoded data removed]"
    },
    "ef3cd3ce-0ddc-4547-9951-6499fe37253e.png": {
     "image/png": "[encoded data removed]"
    }
   },
   "cell_type": "markdown",
   "id": "cd71fe8e-a791-471e-b609-956f1bc0a9bd",
   "metadata": {},
   "source": [
    "Dirichlet=False\n",
    "\n",
    "B real [-1.2,1.2]\n",
    "![image.png](attachment:598c174d-2fca-49d2-8870-74271a151c79.png)\n",
    "B imag [-1.2,1.2]\n",
    "![image.png](attachment:a472c209-1665-4ecb-8458-f936d42b27a2.png)\n",
    "\n",
    "center magnetic field =  ((-3.739974302290506e-06+2.3431155459273613e-06j), (1.4544223972554935-0.9395128476769341j), (-3.8865727482054404e-16-6.05158737305841e-16j))\n",
    "\n",
    "Jz real [-1e6, 1e6]\n",
    "![image.png](attachment:21ca30b3-794f-4875-bc99-adf003e5ad78.png)\n",
    "Jz imag [-5e6, 5e6]\n",
    "![image.png](attachment:ef3cd3ce-0ddc-4547-9951-6499fe37253e.png)\n",
    "\n",
    "Average Joule loss=  241.87082405508121"
   ]
  },
  {
   "cell_type": "code",
   "execution_count": null,
   "id": "564a34b5-cfc2-41f5-84a1-b7805ef91602",
   "metadata": {},
   "outputs": [],
   "source": []
  }
 ],
 "metadata": {
  "kernelspec": {
   "display_name": "my_env",
   "language": "python",
   "name": "my_env"
  },
  "language_info": {
   "codemirror_mode": {
    "name": "ipython",
    "version": 3
   },
   "file_extension": ".py",
   "mimetype": "text/x-python",
   "name": "python",
   "nbconvert_exporter": "python",
   "pygments_lexer": "ipython3",
   "version": "3.10.5"
  }
 },
 "nbformat": 4,
 "nbformat_minor": 5
}
